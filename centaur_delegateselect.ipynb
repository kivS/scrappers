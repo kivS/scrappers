{
 "cells": [
  {
   "cell_type": "markdown",
   "metadata": {},
   "source": [
    "# Crawler for centaur.delegateselect.com"
   ]
  },
  {
   "cell_type": "markdown",
   "metadata": {},
   "source": [
    "- [Customer search  page](https://centaur.delegateselect.com/MT/Run/event/main.html;jsessionid=9C11F56845D0A7C1C25E50152958BC99?Menu=attendees&Action=Start)"
   ]
  },
  {
   "cell_type": "code",
   "execution_count": 4,
   "metadata": {},
   "outputs": [],
   "source": [
    "#Configs\n",
    "from IPython.core.interactiveshell import InteractiveShell\n",
    "InteractiveShell.ast_node_interactivity = \"all\""
   ]
  },
  {
   "cell_type": "code",
   "execution_count": 164,
   "metadata": {},
   "outputs": [],
   "source": [
    "# imports\n",
    "import requests\n",
    "from bs4 import BeautifulSoup\n",
    "import csv"
   ]
  },
  {
   "cell_type": "markdown",
   "metadata": {},
   "source": [
    "## Explore data "
   ]
  },
  {
   "cell_type": "code",
   "execution_count": 10,
   "metadata": {},
   "outputs": [],
   "source": [
    "# session id is refreshed every x minutes and is required to make requests\n",
    "session_id = '81AC054E08FFCD41388BE5BA3722E462'\n",
    "\n",
    "# index start for the result payload(always 15 results)\n",
    "company_index = 1\n",
    "\n",
    "# when the sessionid is expired, a request will return:\n",
    "# b'\\n\\n\\n\\n\\n\\n\\n\\n\\n\\n\\n\\n\\n\\n\\n\\n\\n\\n\\n\\n\\n\\n\\n\\n\\n\\n\\n\\n\\n\\n\\n\\n\\n\\n\\n\\n\\n\\n\\n\\n\\n\\n\\n\\n\\n\\n\\n\\n\\n\\n\\n\\n\\n\\n\\n\\n\\n\\n\\n\\n\\n\\n\\n'\n",
    "url =  f'https://centaur.delegateselect.com/MT/Run/event/attendees.html;jsessionid={ session_id }?AJAX=1&PSVal=1'"
   ]
  },
  {
   "cell_type": "code",
   "execution_count": 11,
   "metadata": {},
   "outputs": [],
   "source": [
    "# site content with the first 15 companies payload\n",
    "site_content = requests.get(url).content"
   ]
  },
  {
   "cell_type": "code",
   "execution_count": 12,
   "metadata": {},
   "outputs": [],
   "source": [
    "soup = BeautifulSoup(site_content)"
   ]
  },
  {
   "cell_type": "code",
   "execution_count": 201,
   "metadata": {},
   "outputs": [
    {
     "data": {
      "text/plain": [
       "['XL Travel (Pty) Ltd / Flight Specials']"
      ]
     },
     "execution_count": 201,
     "metadata": {},
     "output_type": "execute_result"
    },
    {
     "data": {
      "text/plain": [
       "{'href': 'javascript://',\n",
       " 'onclick': \"showProfile('157918','profile.html;jsessionid=FE8303267C70E8C0DF4DB06F272CE0C0')\"}"
      ]
     },
     "execution_count": 201,
     "metadata": {},
     "output_type": "execute_result"
    },
    {
     "data": {
      "text/plain": [
       "True"
      ]
     },
     "execution_count": 201,
     "metadata": {},
     "output_type": "execute_result"
    },
    {
     "data": {
      "text/plain": [
       "\"showProfile('157918','profile.html;jsessionid=FE8303267C70E8C0DF4DB06F272CE0C0')\""
      ]
     },
     "execution_count": 201,
     "metadata": {},
     "output_type": "execute_result"
    },
    {
     "data": {
      "text/plain": [
       "'XL Travel (Pty) Ltd / Flight Specials'"
      ]
     },
     "execution_count": 201,
     "metadata": {},
     "output_type": "execute_result"
    }
   ],
   "source": [
    "# explore a data sample\n",
    "x = soup.find_all('a')[1]\n",
    "x.contents\n",
    "x.attrs\n",
    "x.has_attr('onclick')\n",
    "x.attrs.get('onclick')\n",
    "x.decode_contents()"
   ]
  },
  {
   "cell_type": "code",
   "execution_count": 223,
   "metadata": {},
   "outputs": [
    {
     "data": {
      "text/plain": [
       "'\\n\\t\\t\\t\\tGeneral Manager\\n\\t\\t\\t'"
      ]
     },
     "execution_count": 223,
     "metadata": {},
     "output_type": "execute_result"
    }
   ],
   "source": [
    "# let's move and find the job title for the company name\n",
    "y = x.parent.parent.findNextSibling(class_='row')\n",
    "y.find_next().decode_contents()"
   ]
  },
  {
   "cell_type": "code",
   "execution_count": 148,
   "metadata": {},
   "outputs": [],
   "source": [
    "# let's start eating the soup\n",
    "result = []\n",
    "\n",
    "links_search = soup.find_all('a')"
   ]
  },
  {
   "cell_type": "code",
   "execution_count": 149,
   "metadata": {},
   "outputs": [],
   "source": [
    "# let's get only the a tags that have a showProfile method call onclick event. that means it\n",
    "for item in links_search:\n",
    "    if item.has_attr('onclick') and item.attrs.get('onclick')[:11].startswith('showProfile'):\n",
    "        result.append(item)"
   ]
  },
  {
   "cell_type": "code",
   "execution_count": 150,
   "metadata": {},
   "outputs": [
    {
     "data": {
      "text/plain": [
       "[<a href=\"javascript://\" onclick=\"showProfile('157964','profile.html;jsessionid=81AC054E08FFCD41388BE5BA3722E462')\">247 vip ltd</a>,\n",
       " <a href=\"javascript://\" onclick=\"showProfile('158069','profile.html;jsessionid=81AC054E08FFCD41388BE5BA3722E462')\">2RNJOY</a>,\n",
       " <a href=\"javascript://\" onclick=\"showProfile('158119','profile.html;jsessionid=81AC054E08FFCD41388BE5BA3722E462')\">360 Private Travel</a>,\n",
       " <a href=\"javascript://\" onclick=\"showProfile('157779','profile.html;jsessionid=81AC054E08FFCD41388BE5BA3722E462')\">3Sixty Digital</a>,\n",
       " <a href=\"javascript://\" onclick=\"showProfile('158505','profile.html;jsessionid=81AC054E08FFCD41388BE5BA3722E462')\">Aamal Travel</a>,\n",
       " <a href=\"javascript://\" onclick=\"showProfile('157806','profile.html;jsessionid=81AC054E08FFCD41388BE5BA3722E462')\">Abercrombie &amp; Kent</a>,\n",
       " <a href=\"javascript://\" onclick=\"showProfile('157821','profile.html;jsessionid=81AC054E08FFCD41388BE5BA3722E462')\">Abercrombie &amp; Kent Ltd</a>,\n",
       " <a href=\"javascript://\" onclick=\"showProfile('157758','profile.html;jsessionid=81AC054E08FFCD41388BE5BA3722E462')\">ABRAJ ALBET TRAVEL&amp; TOURISM SERVICES</a>,\n",
       " <a href=\"javascript://\" onclick=\"showProfile('158002','profile.html;jsessionid=81AC054E08FFCD41388BE5BA3722E462')\">AeroCrest Travel Network</a>,\n",
       " <a href=\"javascript://\" onclick=\"showProfile('158533','profile.html;jsessionid=81AC054E08FFCD41388BE5BA3722E462')\">AFY Travel</a>,\n",
       " <a href=\"javascript://\" onclick=\"showProfile('158291','profile.html;jsessionid=81AC054E08FFCD41388BE5BA3722E462')\">agency</a>,\n",
       " <a href=\"javascript://\" onclick=\"showProfile('158265','profile.html;jsessionid=81AC054E08FFCD41388BE5BA3722E462')\">Agoda.com</a>,\n",
       " <a href=\"javascript://\" onclick=\"showProfile('158040','profile.html;jsessionid=81AC054E08FFCD41388BE5BA3722E462')\">Air France-KLM</a>,\n",
       " <a href=\"javascript://\" onclick=\"showProfile('158219','profile.html;jsessionid=81AC054E08FFCD41388BE5BA3722E462')\">Air Partner TMC</a>,\n",
       " <a href=\"javascript://\" onclick=\"showProfile('157772','profile.html;jsessionid=81AC054E08FFCD41388BE5BA3722E462')\">AirBing</a>]"
      ]
     },
     "execution_count": 150,
     "metadata": {},
     "output_type": "execute_result"
    }
   ],
   "source": [
    "result"
   ]
  },
  {
   "cell_type": "code",
   "execution_count": 151,
   "metadata": {},
   "outputs": [],
   "source": [
    "list_of_companies = []\n",
    "\n",
    "for item in result:\n",
    "    list_of_companies.append({\n",
    "        'name': item.decode_contents()\n",
    "    })\n"
   ]
  },
  {
   "cell_type": "code",
   "execution_count": 152,
   "metadata": {},
   "outputs": [
    {
     "data": {
      "text/plain": [
       "[{'name': '247 vip ltd'},\n",
       " {'name': '2RNJOY'},\n",
       " {'name': '360 Private Travel'},\n",
       " {'name': '3Sixty Digital'},\n",
       " {'name': 'Aamal Travel'},\n",
       " {'name': 'Abercrombie &amp; Kent'},\n",
       " {'name': 'Abercrombie &amp; Kent Ltd'},\n",
       " {'name': 'ABRAJ ALBET TRAVEL&amp; TOURISM SERVICES'},\n",
       " {'name': 'AeroCrest Travel Network'},\n",
       " {'name': 'AFY Travel'},\n",
       " {'name': 'agency'},\n",
       " {'name': 'Agoda.com'},\n",
       " {'name': 'Air France-KLM'},\n",
       " {'name': 'Air Partner TMC'},\n",
       " {'name': 'AirBing'}]"
      ]
     },
     "execution_count": 152,
     "metadata": {},
     "output_type": "execute_result"
    },
    {
     "data": {
      "text/plain": [
       "'len: 15'"
      ]
     },
     "execution_count": 152,
     "metadata": {},
     "output_type": "execute_result"
    }
   ],
   "source": [
    "list_of_companies\n",
    "f'len: { len(list_of_companies) }'"
   ]
  },
  {
   "cell_type": "markdown",
   "metadata": {},
   "source": [
    "## Start the scrapping process "
   ]
  },
  {
   "cell_type": "code",
   "execution_count": 231,
   "metadata": {},
   "outputs": [],
   "source": [
    "# session id is refreshed every x minutes and is required to make requests\n",
    "session_id = 'FE8303267C70E8C0DF4DB06F272CE0C0'\n",
    "\n",
    "soup_filter_results = []\n",
    "\n",
    "# each request gives us 15 results and we have 46 pages so let's iterate over them starting at 1 and finishing at 676, the last group of 15 results \n",
    "for company_index in range(1, 676+15, 15):\n",
    "    \n",
    "    url =  f'https://centaur.delegateselect.com/MT/Run/event/attendees.html;jsessionid={ session_id }?AJAX=1&PSVal={ company_index }'\n",
    "    \n",
    "    # site content with the first 15 companies payload\n",
    "    site_content = requests.get(url).content\n",
    "    \n",
    "    # start soup\n",
    "    soup = BeautifulSoup(site_content)\n",
    "    \n",
    "    # cook the soup\n",
    "    soup_of_a_tags = soup.find_all('a')\n",
    "    \n",
    "    # let's get only the a tags that have a showProfile method call onclick event. that means it\n",
    "    for item in soup_of_a_tags:\n",
    "        if item.has_attr('onclick') and item.attrs.get('onclick')[:11].startswith('showProfile'):\n",
    "            soup_filter_results.append(item)\n",
    "\n",
    "\n",
    "# create dict of companies\n",
    "list_of_companies = []\n",
    "\n",
    "for item in soup_filter_results:\n",
    "    \n",
    "    # find the job title for the company entry\n",
    "    job_title = item.parent.parent.findNextSibling(class_='row').find_next().decode_contents()\n",
    "    # remove newline and space chars \n",
    "    job_title = ''.join(job_title.split())\n",
    "    \n",
    "    # add to results\n",
    "    list_of_companies.append({\n",
    "        'name': item.decode_contents().replace('&amp;', ' &'),\n",
    "        'job_title': job_title.replace('&amp;', '&')\n",
    "    })"
   ]
  },
  {
   "cell_type": "code",
   "execution_count": 232,
   "metadata": {},
   "outputs": [
    {
     "data": {
      "text/plain": [
       "'First 10 sample data:'"
      ]
     },
     "execution_count": 232,
     "metadata": {},
     "output_type": "execute_result"
    },
    {
     "data": {
      "text/plain": [
       "[{'name': '247 vip ltd', 'job_title': 'director'},\n",
       " {'name': '2RNJOY', 'job_title': 'CEO'},\n",
       " {'name': '360 Private Travel', 'job_title': 'CEO'},\n",
       " {'name': '3Sixty Digital', 'job_title': 'Director'},\n",
       " {'name': 'Aamal Travel', 'job_title': 'GeneralManager'},\n",
       " {'name': 'Abercrombie  & Kent', 'job_title': 'SolutionsArchitect'},\n",
       " {'name': 'Abercrombie  & Kent Ltd', 'job_title': 'SupportEngineer'},\n",
       " {'name': 'ABRAJ ALBET TRAVEL & TOURISM SERVICES',\n",
       "  'job_title': 'GENERALMANAGER'},\n",
       " {'name': 'AeroCrest Travel Network', 'job_title': 'Founder&CEO'},\n",
       " {'name': 'AFY Travel', 'job_title': 'MemberoftheBoard'}]"
      ]
     },
     "execution_count": 232,
     "metadata": {},
     "output_type": "execute_result"
    },
    {
     "data": {
      "text/plain": [
       "'Processed 679 companies'"
      ]
     },
     "execution_count": 232,
     "metadata": {},
     "output_type": "execute_result"
    }
   ],
   "source": [
    "'First 10 sample data:' \n",
    "list_of_companies[:10]\n",
    "f'Processed {len(list_of_companies) } companies'"
   ]
  },
  {
   "cell_type": "code",
   "execution_count": 233,
   "metadata": {},
   "outputs": [],
   "source": [
    "%%capture\n",
    "# will capture all output and won't display it on the cell output \n",
    "\n",
    "# store soup in a csv file\n",
    "with open('./centaur_attendees.csv', 'w', newline='') as csv_file:\n",
    "    field_names = ['name', 'job_title']\n",
    "    writer = csv.DictWriter(csv_file, fieldnames=field_names)\n",
    "    \n",
    "    writer.writeheader()\n",
    "    \n",
    "    for company in list_of_companies:\n",
    "        writer.writerow(company)"
   ]
  }
 ],
 "metadata": {
  "kernelspec": {
   "display_name": "Python 3",
   "language": "python",
   "name": "python3"
  },
  "language_info": {
   "codemirror_mode": {
    "name": "ipython",
    "version": 3
   },
   "file_extension": ".py",
   "mimetype": "text/x-python",
   "name": "python",
   "nbconvert_exporter": "python",
   "pygments_lexer": "ipython3",
   "version": "3.7.1"
  }
 },
 "nbformat": 4,
 "nbformat_minor": 2
}
