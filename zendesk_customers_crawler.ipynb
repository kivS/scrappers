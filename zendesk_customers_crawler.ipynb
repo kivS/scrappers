{
 "cells": [
  {
   "cell_type": "markdown",
   "metadata": {},
   "source": [
    "# Zendesk Crawling for client info"
   ]
  },
  {
   "cell_type": "markdown",
   "metadata": {},
   "source": [
    "- [Zendesk Customer Page](https://www.zendesk.com/why-zendesk/customers/)"
   ]
  },
  {
   "cell_type": "code",
   "execution_count": 142,
   "metadata": {},
   "outputs": [],
   "source": [
    "#Configs\n",
    "from IPython.core.interactiveshell import InteractiveShell\n",
    "InteractiveShell.ast_node_interactivity = \"all\""
   ]
  },
  {
   "cell_type": "code",
   "execution_count": 143,
   "metadata": {},
   "outputs": [],
   "source": [
    "# imports\n",
    "import requests\n",
    "from bs4 import BeautifulSoup\n",
    "import csv"
   ]
  },
  {
   "cell_type": "code",
   "execution_count": 57,
   "metadata": {},
   "outputs": [],
   "source": [
    "site_url = 'https://www.zendesk.com/why-zendesk/customers/'\n",
    "\n",
    "site_content = requests.get(site_url).content\n",
    "\n",
    "soup = BeautifulSoup(site_content)"
   ]
  },
  {
   "cell_type": "code",
   "execution_count": 1,
   "metadata": {},
   "outputs": [],
   "source": [
    "# print(soup.prettify())"
   ]
  },
  {
   "cell_type": "code",
   "execution_count": 58,
   "metadata": {},
   "outputs": [
    {
     "data": {
      "text/plain": [
       "'title tag - <title>Customers - What Companies Use to Service You | Zendesk</title>'"
      ]
     },
     "execution_count": 58,
     "metadata": {},
     "output_type": "execute_result"
    },
    {
     "data": {
      "text/plain": [
       "'title string - Customers - What Companies Use to Service You | Zendesk'"
      ]
     },
     "execution_count": 58,
     "metadata": {},
     "output_type": "execute_result"
    }
   ],
   "source": [
    "# navigate data\n",
    "f'title tag - { soup.title }'\n",
    "\n",
    "f'title string - { soup.title.string }'"
   ]
  },
  {
   "cell_type": "code",
   "execution_count": 117,
   "metadata": {},
   "outputs": [
    {
     "data": {
      "text/plain": [
       "'Number of companies found: 166'"
      ]
     },
     "execution_count": 117,
     "metadata": {},
     "output_type": "execute_result"
    }
   ],
   "source": [
    "# get all the div blocks with customer info\n",
    "customer_tiles = soup.find_all(class_='customer-tile')\n",
    "\n",
    "f'Number of companies found: { len(customer_tiles) }'"
   ]
  },
  {
   "cell_type": "code",
   "execution_count": 114,
   "metadata": {},
   "outputs": [
    {
     "data": {
      "text/plain": [
       "'Company name - Squarespace'"
      ]
     },
     "execution_count": 114,
     "metadata": {},
     "output_type": "execute_result"
    },
    {
     "data": {
      "text/plain": [
       "\"company tags - ['Americas', 'Asia Pacific', 'Chat', 'Europe', 'Guide', 'Internet & Mobile', 'Software & Technology', 'Support', 'Talk']\""
      ]
     },
     "execution_count": 114,
     "metadata": {},
     "output_type": "execute_result"
    },
    {
     "data": {
      "text/plain": [
       "'Customer html -'"
      ]
     },
     "execution_count": 114,
     "metadata": {},
     "output_type": "execute_result"
    },
    {
     "name": "stdout",
     "output_type": "stream",
     "text": [
      "<div class=\"customer-tile americas asia-pacific product-chat europe product-guide internet-mobile software-technology product-support product-talk\">\n",
      " <a class=\"goto-read-story\" href=\"https://www.zendesk.com/customer/squarespace/\">\n",
      "  <div class=\"customer-background\" style=\"background-image: url('https://d26a57ydsghvgx.cloudfront.net/product/Customer%20Story%20Images/Squarespace6.jpg'); background-size: cover;\">\n",
      "  </div>\n",
      " </a>\n",
      " <div class=\"headline\">\n",
      "  <a class=\"goto-read-story\" data-sl-variant=\"squarespace\" href=\"https://www.zendesk.com/customer/squarespace/\">\n",
      "   <h4>\n",
      "    Squarespace\n",
      "   </h4>\n",
      "  </a>\n",
      "  <div class=\"tags\">\n",
      "   <a class=\"filter\" href=\"#americas\">\n",
      "    Americas\n",
      "   </a>\n",
      "   ,\n",
      "   <a class=\"filter\" href=\"#asia-pacific\">\n",
      "    Asia Pacific\n",
      "   </a>\n",
      "   ,\n",
      "   <a class=\"filter\" href=\"#product-chat\">\n",
      "    Chat\n",
      "   </a>\n",
      "   ,\n",
      "   <a class=\"filter\" href=\"#europe\">\n",
      "    Europe\n",
      "   </a>\n",
      "   ,\n",
      "   <a class=\"filter\" href=\"#product-guide\">\n",
      "    Guide\n",
      "   </a>\n",
      "   ,\n",
      "   <a class=\"filter\" href=\"#internet-mobile\">\n",
      "    Internet &amp; Mobile\n",
      "   </a>\n",
      "   ,\n",
      "   <a class=\"filter\" href=\"#software-technology\">\n",
      "    Software &amp; Technology\n",
      "   </a>\n",
      "   ,\n",
      "   <a class=\"filter\" href=\"#product-support\">\n",
      "    Support\n",
      "   </a>\n",
      "   ,\n",
      "   <a class=\"filter\" href=\"#product-talk\">\n",
      "    Talk\n",
      "   </a>\n",
      "  </div>\n",
      "  <p>\n",
      "   Millions turn to Squarespace for a great customer experience\n",
      "  </p>\n",
      " </div>\n",
      " <div class=\"customer-cta-row SL_swap\" id=\"custStory-squarespace\">\n",
      "  <a class=\"goto-read-story\" data-sl-variant=\"squarespace\" href=\"https://www.zendesk.com/customer/squarespace/\">\n",
      "   Read full story\n",
      "  </a>\n",
      " </div>\n",
      "</div>\n",
      "\n"
     ]
    }
   ],
   "source": [
    "# get single company\n",
    "company_1 = customer_tiles[0]\n",
    "\n",
    "f'Company name - { company_1.h4.string }'\n",
    "\n",
    "company_1_tags = [tag.string for tag in company_1.find(class_='tags').find_all(class_='filter')]\n",
    "\n",
    "f'company tags - { company_1_tags }'\n",
    "\n",
    "f'Customer html -'\n",
    "print(company_1.prettify()) \n"
   ]
  },
  {
   "cell_type": "code",
   "execution_count": 212,
   "metadata": {},
   "outputs": [],
   "source": [
    "# define all the possible filters used by the site\n",
    "products_list = ['Chat', 'Guide', 'Support', 'Talk', 'Explore', 'Connect']\n",
    "\n",
    "regions_list = ['Americas', 'Asia Pacific', 'Europe']\n",
    "\n",
    "industries_list = [\n",
    "    'Internet & Mobile', \n",
    "    'Software & Technology', \n",
    "    'Retail & eCommerce', \n",
    "    'Travel & Hospitality', \n",
    "    'Financial Services',\n",
    "    'Healthcare',\n",
    "    'Media & Entertainment',\n",
    "    'Telecommunications',\n",
    "    'Energy',\n",
    "    'Non-Profit',\n",
    "    'Government',\n",
    "    'Education'\n",
    "]"
   ]
  },
  {
   "cell_type": "code",
   "execution_count": 215,
   "metadata": {},
   "outputs": [],
   "source": [
    "# get info about all companies\n",
    "output = []\n",
    "for company in customer_tiles:\n",
    "    c = {}\n",
    "    \n",
    "    c['company_name'] = company.h4.string\n",
    "    \n",
    "    tags  = [tag.string for tag in company.find(class_='tags').find_all(class_='filter')]\n",
    "    \n",
    "    # build a list with the filters tags that belong to products\n",
    "    products = [ tag for tag in tags if tag in products_list]\n",
    "    # direct array to string with removal of [] and ' '\n",
    "    c['products'] = str(products).replace('\\'', '').strip('[]')\n",
    "    \n",
    "    # build a list with the filters tags that belong to regions\n",
    "    regions = [ tag for tag in tags if tag in regions_list]\n",
    "    # direct array to string with removal of [] and ' '\n",
    "    c['regions'] =  str(regions).replace('\\'', '').strip('[]')\n",
    "    \n",
    "    # build a list with the filters tags that belong to industries\n",
    "    industries = [ tag for tag in tags if tag in industries_list]\n",
    "    # direct array to string with removal of [] and ' '\n",
    "    c['industries'] = str(industries).replace('\\'', '').strip('[]')\n",
    "    \n",
    "    output.append(c)\n",
    "    \n",
    "# output"
   ]
  },
  {
   "cell_type": "code",
   "execution_count": 216,
   "metadata": {},
   "outputs": [],
   "source": [
    "%%capture\n",
    "# capture will capture all output and not show it \n",
    "\n",
    "# generate a csv document with output\n",
    "with open('Documents/Notebooks/zendesk_clients.csv', 'w', newline='') as csv_file:\n",
    "    field_names = ['company_name', 'products', 'regions', 'industries']\n",
    "    writer = csv.DictWriter(csv_file, fieldnames=field_names)\n",
    "    \n",
    "    writer.writeheader()\n",
    "    \n",
    "    for item in output:\n",
    "        writer.writerow(item)"
   ]
  },
  {
   "cell_type": "code",
   "execution_count": null,
   "metadata": {},
   "outputs": [],
   "source": []
  }
 ],
 "metadata": {
  "kernelspec": {
   "display_name": "Python 3",
   "language": "python",
   "name": "python3"
  },
  "language_info": {
   "codemirror_mode": {
    "name": "ipython",
    "version": 3
   },
   "file_extension": ".py",
   "mimetype": "text/x-python",
   "name": "python",
   "nbconvert_exporter": "python",
   "pygments_lexer": "ipython3",
   "version": "3.7.1"
  }
 },
 "nbformat": 4,
 "nbformat_minor": 2
}
